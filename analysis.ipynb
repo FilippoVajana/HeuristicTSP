{
 "nbformat": 4,
 "nbformat_minor": 2,
 "metadata": {
  "language_info": {
   "name": "python",
   "codemirror_mode": {
    "name": "ipython",
    "version": 3
   }
  },
  "orig_nbformat": 2,
  "file_extension": ".py",
  "mimetype": "text/x-python",
  "name": "python",
  "npconvert_exporter": "python",
  "pygments_lexer": "ipython3",
  "version": 3
 },
 "cells": [
  {
   "cell_type": "markdown",
   "execution_count": null,
   "metadata": {},
   "outputs": [],
   "source": [
    "# Results analysis"
   ]
  },
  {
   "cell_type": "markdown",
   "execution_count": null,
   "metadata": {},
   "outputs": [],
   "source": [
    "## Load data"
   ]
  },
  {
   "cell_type": "code",
   "execution_count": null,
   "metadata": {},
   "outputs": [],
   "source": [
    "POS_ROOT = \"./data/instances\"\n",
    "SG_RES_ROOT = \"./data/results/6023\"\n",
    "GRASP_RES_ROOT = None\n",
    "OPT = { \"att48\" : 10628,\n",
    "        \"bayg29\" : 1610,\n",
    "        \"bays29\" : 2020,        \n",
    "        \"burma14\" : 3323,\n",
    "        \"fri26\" : 937,\n",
    "        \"gr21\" : 2707,\n",
    "        \"gr24\" : 1272,\n",
    "        \"pr76\" : 108159,\n",
    "        \"st70\" : 675 }\n",
    "\n",
    "def read_positions_file(file_path : str):\n",
    "    positions = dict()\n",
    "    # parse file\n",
    "    file = open(file_path, 'r')    \n",
    "    for line in file:\n",
    "        line = str(line).replace('\\n', '')\n",
    "        split = [float(s) for s in line.split(' ') if s != '']\n",
    "        positions[int(split[0] - 1)] = (split[1], split[2])\n",
    "    \n",
    "    return positions # {Node, (X,Y)}\n",
    "\n",
    "def read_results(file_path : str):\n",
    "    results = []\n",
    "    # parse file\n",
    "    file = open(file_path, 'r')\n",
    "    lines = file.readlines()\n",
    "    for i in range(0, len(lines), 2):\n",
    "        circuit = [int(id) for id in lines[i].replace('\\n', '').split(' ')]\n",
    "        cost = int(lines[i+1].replace('\\n', ''))\n",
    "        results.append((circuit, cost))\n",
    "    \n",
    "    return results # [(circuit, cost)]"
   ]
  }
 ]
}